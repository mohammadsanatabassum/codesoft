{
 "cells": [
  {
   "cell_type": "markdown",
   "id": "013a6899",
   "metadata": {},
   "source": [
    "# PASSWORD GENERATION"
   ]
  },
  {
   "cell_type": "code",
   "execution_count": 2,
   "id": "74a5d823",
   "metadata": {},
   "outputs": [],
   "source": [
    "import tkinter as tk\n",
    "from tkinter import messagebox\n",
    "import random\n",
    "import string\n",
    "\n",
    "def generate_password():\n",
    "    try:\n",
    "        length = int(length_entry.get())\n",
    "        if length < 1:\n",
    "            messagebox.showerror(\"Invalid Input\", \"Password length must be at least 1\")\n",
    "            return\n",
    "        \n",
    "        characters = string.ascii_letters + string.digits + string.punctuation\n",
    "        \n",
    "        password = ''.join(random.choice(characters) for _ in range(length))\n",
    "        \n",
    "        result_entry.delete(0, tk.END)\n",
    "        result_entry.insert(0, password)\n",
    "    \n",
    "    except ValueError:\n",
    "        messagebox.showerror(\"Invalid Input\", \"Please enter a valid number for password length\")\n",
    "\n",
    "def copy_to_clipboard():\n",
    "    root.clipboard_clear()\n",
    "    root.clipboard_append(result_entry.get())\n",
    "    messagebox.showinfo(\"Copied\", \"Password copied to clipboard\")\n",
    "\n",
    "# Set up the main application window\n",
    "root = tk.Tk()\n",
    "root.title(\"Password Generator\")\n",
    "root.geometry(\"400x200\")\n",
    "\n",
    "# Password length input\n",
    "length_label = tk.Label(root, text=\"Password Length:\")\n",
    "length_label.pack(pady=10)\n",
    "length_entry = tk.Entry(root)\n",
    "length_entry.pack(pady=5)\n",
    "\n",
    "# Button to generate the password\n",
    "generate_button = tk.Button(root, text=\"Generate Password\", command=generate_password)\n",
    "generate_button.pack(pady=10)\n",
    "\n",
    "# Entry to display the generated password\n",
    "result_entry = tk.Entry(root, width=50)\n",
    "result_entry.pack(pady=5)\n",
    "\n",
    "# Button to copy the password to clipboard\n",
    "copy_button = tk.Button(root, text=\"Copy to Clipboard\", command=copy_to_clipboard)\n",
    "copy_button.pack(pady=5)\n",
    "\n",
    "# Start the application\n",
    "root.mainloop()\n"
   ]
  },
  {
   "cell_type": "code",
   "execution_count": null,
   "id": "e5df8207",
   "metadata": {},
   "outputs": [],
   "source": []
  }
 ],
 "metadata": {
  "kernelspec": {
   "display_name": "Python 3 (ipykernel)",
   "language": "python",
   "name": "python3"
  },
  "language_info": {
   "codemirror_mode": {
    "name": "ipython",
    "version": 3
   },
   "file_extension": ".py",
   "mimetype": "text/x-python",
   "name": "python",
   "nbconvert_exporter": "python",
   "pygments_lexer": "ipython3",
   "version": "3.11.5"
  }
 },
 "nbformat": 4,
 "nbformat_minor": 5
}
