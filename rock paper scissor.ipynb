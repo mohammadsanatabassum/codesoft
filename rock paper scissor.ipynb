{
 "cells": [
  {
   "cell_type": "markdown",
   "id": "d8638815",
   "metadata": {},
   "source": [
    "# rock paper scissor\n"
   ]
  },
  {
   "cell_type": "code",
   "execution_count": 18,
   "id": "1f8f2f8c",
   "metadata": {},
   "outputs": [
    {
     "name": "stdout",
     "output_type": "stream",
     "text": [
      "enter your choice:type 1 for rock, type 2 for paper ,type 3 for scissors:2\n",
      "\n",
      "    _______\n",
      "---'   ____)____\n",
      "          ______)\n",
      "       __________)\n",
      "      (____)\n",
      "---.__(___)\n",
      "\n",
      "computer choose:\n",
      "  \n",
      "     _______\n",
      "---'    ____)____\n",
      "           ______)\n",
      "          _______)\n",
      "         _______)\n",
      "---.__________)\n",
      "\n",
      "you win\n"
     ]
    }
   ],
   "source": [
    "import random\n",
    "rock = '''\n",
    "    _______\n",
    "---'   ____)\n",
    "      (_____)\n",
    "      (_____)\n",
    "      (____)\n",
    "---.__(___)\n",
    "'''\n",
    "\n",
    "paper = '''  \n",
    "     _______\n",
    "---'    ____)____\n",
    "           ______)\n",
    "          _______)\n",
    "         _______)\n",
    "---.__________)\n",
    "'''\n",
    "\n",
    "scissors = '''\n",
    "    _______\n",
    "---'   ____)____\n",
    "          ______)\n",
    "       __________)\n",
    "      (____)\n",
    "---.__(___)\n",
    "'''\n",
    "\n",
    "game_images=[rock,paper,scissors]\n",
    "user_choice=int(input(\"enter your choice:type 1 for rock, type 2 for paper ,type 3 for scissors:\"))\n",
    "if user_choice>2 or user_choice<0:\n",
    "    print(\"you entered invalid number,you lose\")\n",
    "else:\n",
    "    print(game_images[user_choice])\n",
    "    computer_choice=random.randint(0,2)\n",
    "    print(\"computer choose:\")\n",
    "    print(game_images[computer_choice])\n",
    "    if computer_choice==user_choice:\n",
    "        print(\"its a draw\")\n",
    "    elif (user_choice==0 and computer_choice==2) or \\\n",
    "         (user_choice==1 and computer_choice==0) or \\\n",
    "         (user_choice==2 and computer_choice==1):\n",
    "        print(\"you win\")\n",
    "    else:\n",
    "        print(\"you lose\")\n",
    "    "
   ]
  },
  {
   "cell_type": "code",
   "execution_count": null,
   "id": "cd49c45d",
   "metadata": {},
   "outputs": [],
   "source": []
  },
  {
   "cell_type": "code",
   "execution_count": null,
   "id": "1a00e895",
   "metadata": {},
   "outputs": [],
   "source": []
  }
 ],
 "metadata": {
  "kernelspec": {
   "display_name": "Python 3 (ipykernel)",
   "language": "python",
   "name": "python3"
  },
  "language_info": {
   "codemirror_mode": {
    "name": "ipython",
    "version": 3
   },
   "file_extension": ".py",
   "mimetype": "text/x-python",
   "name": "python",
   "nbconvert_exporter": "python",
   "pygments_lexer": "ipython3",
   "version": "3.11.5"
  }
 },
 "nbformat": 4,
 "nbformat_minor": 5
}
